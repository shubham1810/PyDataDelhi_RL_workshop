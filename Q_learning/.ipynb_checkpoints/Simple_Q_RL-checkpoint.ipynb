{
 "cells": [
  {
   "cell_type": "code",
   "execution_count": 17,
   "metadata": {
    "collapsed": true
   },
   "outputs": [],
   "source": [
    "import random\n",
    "import numpy as np\n",
    "from matplotlib import pyplot as plt\n",
    "%matplotlib inline"
   ]
  },
  {
   "cell_type": "code",
   "execution_count": 18,
   "metadata": {
    "collapsed": true
   },
   "outputs": [],
   "source": [
    "NODES = 6\n",
    "GOAL = 4\n",
    "\n",
    "ALPHA = 0.02 # Learning rate\n",
    "GAMMA = 0.85 # discount factor\n",
    "EXPLORE_PROB = 1.0"
   ]
  },
  {
   "cell_type": "code",
   "execution_count": 43,
   "metadata": {
    "collapsed": true
   },
   "outputs": [],
   "source": [
    "R = {\n",
    "(0, 1): 0,\n",
    "(0, 2): 0,\n",
    "(0, 5): -4,\n",
    "(1, 0): -1,\n",
    "(1, 2): 5,\n",
    "(1, 3): 2,\n",
    "(1, 5): 0,\n",
    "(2, 0): -5,\n",
    "(2, 1): 0,\n",
    "(2, 3): 10,\n",
    "(2, 5): 8,\n",
    "(3, 0): 5,\n",
    "(3, 1): -3,\n",
    "(3, 2): 4,\n",
    "(3, 4): 50,\n",
    "(3, 5): 2,\n",
    "(4, 0): -10,\n",
    "(4, 1): -5,\n",
    "(4, 2): -20,\n",
    "(4, 3): 0,\n",
    "(4, 4): 100,\n",
    "(4, 5): -50,\n",
    "(5, 0): -15,\n",
    "(5, 1): 2,\n",
    "(5, 2): -7,\n",
    "(5, 3): 0,\n",
    "(5, 4): 70,\n",
    "}\n",
    "\n",
    "Q = {}"
   ]
  },
  {
   "cell_type": "code",
   "execution_count": 29,
   "metadata": {
    "collapsed": false
   },
   "outputs": [
    {
     "data": {
      "text/plain": [
       "[0, 1, 3, 5]"
      ]
     },
     "execution_count": 29,
     "metadata": {},
     "output_type": "execute_result"
    }
   ],
   "source": [
    "def get_actions(current):\n",
    "    actions = []\n",
    "    for rx in xrange(NODES):\n",
    "        if (current, rx) in R:\n",
    "            actions.append(rx)\n",
    "    return actions\n",
    "\n",
    "get_actions(2)"
   ]
  },
  {
   "cell_type": "code",
   "execution_count": 42,
   "metadata": {
    "collapsed": false
   },
   "outputs": [
    {
     "data": {
      "text/plain": [
       "[<matplotlib.lines.Line2D at 0x7fe26499ad50>]"
      ]
     },
     "execution_count": 42,
     "metadata": {},
     "output_type": "execute_result"
    },
    {
     "data": {
      "image/png": "[encoded data removed]",
      "text/plain": [
       "<matplotlib.figure.Figure at 0x7fe264a9f9d0>"
      ]
     },
     "metadata": {},
     "output_type": "display_data"
    }
   ],
   "source": [
    "def sigmoid(z):\n",
    "    return 1.0 / (1.0 + np.exp(-z))\n",
    "\n",
    "def decay(t, total_iter=100, initial_value=None, decay_type='nonlinear'):\n",
    "    if decay_type=='linear':\n",
    "        return (N-t)/N\n",
    "    else:\n",
    "        return sigmoid(-1 * ((t * 25.0) / (2.0 * total_iter)) + 5)\n",
    "\n",
    "val = []\n",
    "N = 1000\n",
    "for ix in np.linspace(0, N, 200):\n",
    "    val.append(decay(ix, N, 1.0))\n",
    "    \n",
    "plt.plot(np.linspace(0, N, 200), val)\n",
    "\n"
   ]
  },
  {
   "cell_type": "code",
   "execution_count": 44,
   "metadata": {
    "collapsed": false
   },
   "outputs": [
    {
     "name": "stdout",
     "output_type": "stream",
     "text": [
      "{}\n"
     ]
    }
   ],
   "source": [
    "print Q"
   ]
  },
  {
   "cell_type": "code",
   "execution_count": 48,
   "metadata": {
    "collapsed": false,
    "scrolled": true
   },
   "outputs": [
    {
     "name": "stdout",
     "output_type": "stream",
     "text": [
      "0 5 2 3 1 3 2 1 3 2 0 \n",
      "Episode: 0 | Reward: 3\n",
      "0 2 3 2 5 0 5 1 5 2 1 \n",
      "Episode: 1 | Reward: -2\n",
      "0 1 3 5 3 4 \n",
      "Episode: 2 | Reward: 54\n",
      "0 2 1 0 2 3 5 3 2 5 1 \n",
      "Episode: 3 | Reward: 25\n",
      "0 2 1 2 5 4 \n",
      "Episode: 4 | Reward: 83\n",
      "0 5 4 \n",
      "Episode: 5 | Reward: 66\n",
      "0 2 5 4 \n",
      "Episode: 6 | Reward: 78\n",
      "0 2 5 4 \n",
      "Episode: 7 | Reward: 78\n",
      "0 2 5 4 \n",
      "Episode: 8 | Reward: 78\n",
      "0 2 5 4 \n",
      "Episode: 9 | Reward: 78\n"
     ]
    }
   ],
   "source": [
    "N_ep = 6000\n",
    "EXPLORE = True\n",
    "display_path = False\n",
    "all_rewards = []\n",
    "for ep in range(N_ep):\n",
    "    pos = 0 # current state\n",
    "    rew = 0 # accumulated reward\n",
    "    steps = 0\n",
    "    if display_path:\n",
    "        print pos,\n",
    "    while (not pos == GOAL) and steps < 10:\n",
    "    # for kx in range(20):\n",
    "        # print pos\n",
    "        steps += 1\n",
    "        p_act = get_actions(pos)\n",
    "        \n",
    "        best_ac = []\n",
    "        q_best = None\n",
    "        \n",
    "        for ac in p_act:\n",
    "            rq = Q.setdefault((pos, ac), 0)\n",
    "            if rq > q_best:\n",
    "                q_best = rq\n",
    "                best = [ac]\n",
    "            elif rq == q_best:\n",
    "                best.append(ac)\n",
    "        \n",
    "        # define exploration\n",
    "        explore_prob = decay(ep, N_ep, EXPLORE_PROB)\n",
    "        \n",
    "        if np.random.random() < explore_prob and EXPLORE:\n",
    "            nxt_pos = random.choice(p_act)\n",
    "        else:\n",
    "            nxt_pos = random.choice(best)\n",
    "        \n",
    "        if display_path:\n",
    "            print nxt_pos,\n",
    "            \n",
    "        nxt_p_ac = get_actions(nxt_pos)\n",
    "        \n",
    "        nq_best = None\n",
    "        \n",
    "        for ac in nxt_p_ac:\n",
    "            rq = Q.setdefault((nxt_pos, ac), 0)\n",
    "            nq_best = max(nq_best, rq)\n",
    "        \n",
    "        Q[(pos, nxt_pos)] = (1- ALPHA)*Q[(pos, nxt_pos)] + ALPHA*(R[(pos, nxt_pos)] + GAMMA*nq_best)\n",
    "        rew += R[(pos, nxt_pos)]\n",
    "        pos = nxt_pos\n",
    "    if display_path:\n",
    "        print \"\\nEpisode:\", ep, \"| Reward:\", rew\n",
    "    all_rewards.append(rew)"
   ]
  },
  {
   "cell_type": "code",
   "execution_count": null,
   "metadata": {
    "collapsed": true
   },
   "outputs": [],
   "source": []
  },
  {
   "cell_type": "code",
   "execution_count": 46,
   "metadata": {
    "collapsed": false,
    "scrolled": false
   },
   "outputs": [
    {
     "name": "stdout",
     "output_type": "stream",
     "text": [
      "(0, 1) 53.0187375644\n",
      "(0, 2) 57.375\n",
      "(0, 5) 55.4999996109\n",
      "(1, 0) 47.7669872608\n",
      "(1, 2) 62.3749999468\n",
      "(1, 3) 54.2372141347\n",
      "(1, 5) 59.4995980923\n",
      "(2, 0) 43.7687117743\n",
      "(2, 1) 53.0186261242\n",
      "(2, 3) 62.271637275\n",
      "(2, 5) 67.5\n",
      "(3, 0) 53.6888413966\n",
      "(3, 1) 49.7893602823\n",
      "(3, 2) 61.2189493988\n",
      "(3, 4) 49.9806841667\n",
      "(3, 5) 61.4997902418\n",
      "(4, 0) 0\n",
      "(4, 1) 0\n",
      "(4, 2) 0\n",
      "(4, 3) 0\n",
      "(4, 4) 0\n",
      "(4, 5) 0\n",
      "(5, 0) 33.7679490534\n",
      "(5, 1) 55.0175137986\n",
      "(5, 2) 50.3741595112\n",
      "(5, 3) 52.2696694708\n",
      "(5, 4) 70.0\n"
     ]
    }
   ],
   "source": [
    "for ax in range(NODES):\n",
    "    for bx in range(NODES):\n",
    "        if (ax, bx) in Q:\n",
    "            print (ax, bx), Q[(ax, bx)]"
   ]
  },
  {
   "cell_type": "code",
   "execution_count": 49,
   "metadata": {
    "collapsed": false
   },
   "outputs": [
    {
     "data": {
      "image/png": "[encoded data removed]",
      "text/plain": [
       "<matplotlib.figure.Figure at 0x7fe264b96790>"
      ]
     },
     "metadata": {},
     "output_type": "display_data"
    }
   ],
   "source": [
    "plt.figure(0, figsize=(20, 10))\n",
    "\n",
    "plt.plot(all_rewards)\n",
    "plt.show()"
   ]
  },
  {
   "cell_type": "code",
   "execution_count": null,
   "metadata": {
    "collapsed": true
   },
   "outputs": [],
   "source": []
  }
 ],
 "metadata": {
  "kernelspec": {
   "display_name": "Python 2",
   "language": "python",
   "name": "python2"
  },
  "language_info": {
   "codemirror_mode": {
    "name": "ipython",
    "version": 2
   },
   "file_extension": ".py",
   "mimetype": "text/x-python",
   "name": "python",
   "nbconvert_exporter": "python",
   "pygments_lexer": "ipython2",
   "version": "2.7.12"
  }
 },
 "nbformat": 4,
 "nbformat_minor": 2
}
